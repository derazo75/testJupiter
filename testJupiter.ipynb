{
  "metadata": {
    "language_info": {
      "codemirror_mode": {
        "name": "python",
        "version": 3
      },
      "file_extension": ".py",
      "mimetype": "text/x-python",
      "name": "python",
      "nbconvert_exporter": "python",
      "pygments_lexer": "ipython3",
      "version": "3.8"
    },
    "kernelspec": {
      "name": "python",
      "display_name": "Pyolite",
      "language": "python"
    }
  },
  "nbformat_minor": 4,
  "nbformat": 4,
  "cells": [
    {
      "cell_type": "markdown",
      "source": "# My Jupyter Notebook on IBM Watson Studio",
      "metadata": {}
    },
    {
      "cell_type": "markdown",
      "source": "**Diego Fernando Erazo Velasco**<br>\nData Scientist",
      "metadata": {}
    },
    {
      "cell_type": "markdown",
      "source": "*I am interested in data science because it creates novel solutions to common problems*",
      "metadata": {}
    },
    {
      "cell_type": "markdown",
      "source": "The code below shows the result of 1+1",
      "metadata": {}
    },
    {
      "cell_type": "code",
      "source": "print(\"Result of 1 + 1 is\")\n1+1",
      "metadata": {
        "trusted": true
      },
      "execution_count": 2,
      "outputs": [
        {
          "name": "stdout",
          "text": "Result of 1 + 1 is\n",
          "output_type": "stream"
        },
        {
          "execution_count": 2,
          "output_type": "execute_result",
          "data": {
            "text/plain": "2"
          },
          "metadata": {}
        }
      ]
    },
    {
      "cell_type": "markdown",
      "source": "Build on ![Image](https://jupyter.org/assets/homepage/main-logo.svg)\n***\nThansk to\n1. IBM\n2. Coursera\n3. Skills Network Labs",
      "metadata": {}
    }
  ]
}